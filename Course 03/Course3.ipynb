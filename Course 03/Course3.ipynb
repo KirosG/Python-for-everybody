{
 "cells": [
  {
   "cell_type": "markdown",
   "metadata": {},
   "source": [
    "## Importing libraries"
   ]
  },
  {
   "cell_type": "code",
   "execution_count": 65,
   "metadata": {
    "collapsed": true
   },
   "outputs": [],
   "source": [
    "import re\n",
    "import socket\n",
    "import urllib.request, urllib.parse, urllib.error\n",
    "from bs4 import BeautifulSoup\n",
    "import ssl\n",
    "import xml.etree.ElementTree as ET\n",
    "import json"
   ]
  },
  {
   "cell_type": "markdown",
   "metadata": {},
   "source": [
    "## Assignment 1"
   ]
  },
  {
   "cell_type": "code",
   "execution_count": 2,
   "metadata": {},
   "outputs": [
    {
     "name": "stdout",
     "output_type": "stream",
     "text": [
      "354101\n"
     ]
    }
   ],
   "source": [
    "file = open('regex_sum_44195.txt', 'r')\n",
    "counts = 0\n",
    "for line in file:\n",
    "    nums = re.findall('[0-9]+', line)\n",
    "    counts += sum([int(num) for num in nums])\n",
    "print(counts)"
   ]
  },
  {
   "cell_type": "markdown",
   "metadata": {},
   "source": [
    "## Assignment 2"
   ]
  },
  {
   "cell_type": "code",
   "execution_count": 3,
   "metadata": {},
   "outputs": [
    {
     "name": "stdout",
     "output_type": "stream",
     "text": [
      "HTTP/1.1 200 OK\r\n",
      "Date: Wed, 25 Oct 2017 11:03:37 GMT\r\n",
      "Server: Apache/2.4.7 (Ubuntu)\r\n",
      "Last-Modified: Sat, 13 May 2017 11:22:22 GMT\r\n",
      "ETag: \"1d3-54f6609240717\"\r\n",
      "Accept-Ranges: bytes\r\n",
      "Content-Length: 467\r\n",
      "Cache-Control: max-age=0, no-cache, no-store, must-revalidate\r\n",
      "Pragma: no-cache\r\n",
      "Expires: Wed, 11 Jan 1984 05:00:00 GMT\r\n",
      "Connection: close\r\n",
      "Content-Type: text/plain\r\n",
      "\r\n",
      "Why should you learn to write programs?\n",
      "\n",
      "Writing programs (or programming) is a very creative \n",
      "and rewarding activity.  You can write programs \n",
      "for \n",
      "many reasons, ranging from making your living to solving\n",
      "a difficult data analysis problem to having fun to helping\n",
      "someone else solve a problem.  This book assumes that \n",
      "everyone needs to know how to program, and that once \n",
      "you know how to program you will figure out what you want \n",
      "to do with your newfound skills.  \n",
      "\n"
     ]
    }
   ],
   "source": [
    "mysock = socket.socket(socket.AF_INET, socket.SOCK_STREAM)\n",
    "mysock.connect(('data.pr4e.org', 80))\n",
    "cmd = 'GET http://data.pr4e.org/intro-short.txt HTTP/1.0\\r\\n\\r\\n'.encode()\n",
    "mysock.send(cmd)\n",
    "\n",
    "while True:\n",
    "    data = mysock.recv(512)\n",
    "    if (len(data) < 1):\n",
    "        break\n",
    "    print(data.decode())\n",
    "mysock.close()"
   ]
  },
  {
   "cell_type": "markdown",
   "metadata": {},
   "source": [
    "## Assignment 3a"
   ]
  },
  {
   "cell_type": "code",
   "execution_count": 15,
   "metadata": {},
   "outputs": [
    {
     "name": "stdout",
     "output_type": "stream",
     "text": [
      "2486\n"
     ]
    }
   ],
   "source": [
    "url = \"http://py4e-data.dr-chuck.net/comments_44197.html\"\n",
    "\n",
    "file = urllib.request.urlopen(url).read()\n",
    "soup = BeautifulSoup(file, 'html.parser')\n",
    "\n",
    "count = 0\n",
    "for line in soup:\n",
    "    nums = re.findall('>([0-9]+)<', str(line))\n",
    "    count += sum([int(num) for num in nums])\n",
    "print(count)"
   ]
  },
  {
   "cell_type": "markdown",
   "metadata": {},
   "source": [
    "## Assignment 3b"
   ]
  },
  {
   "cell_type": "code",
   "execution_count": 31,
   "metadata": {},
   "outputs": [
    {
     "name": "stdout",
     "output_type": "stream",
     "text": [
      "['Laya', 'Haiden', 'Ayrton', 'Leilan', 'Thorben', 'Jahy', 'Micaila']\n"
     ]
    }
   ],
   "source": [
    "# Ignore SSL certificate errors\n",
    "ctx = ssl.create_default_context()\n",
    "ctx.check_hostname = False\n",
    "ctx.verify_mode = ssl.CERT_NONE\n",
    "\n",
    "url = \"http://py4e-data.dr-chuck.net/known_by_Josephine.html\"\n",
    "html = urllib.request.urlopen(url, context=ctx).read()\n",
    "soup = BeautifulSoup(html, 'html.parser')\n",
    "\n",
    "\n",
    "# Retrieve all of the anchor tags\n",
    "tags = soup('a')\n",
    "names = re.findall('>(\\w+)<', str(tags[17]))\n",
    "for i in range(6):\n",
    "    new_url = tags[17].get('href', None)\n",
    "    new_html = urllib.request.urlopen(new_url, context=ctx).read()\n",
    "    new_soup = BeautifulSoup(new_html, 'html.parser')\n",
    "    tags = new_soup('a')\n",
    "    names.append(re.findall('>(\\w+)<', str(tags[17]))[0])\n",
    "print(names)"
   ]
  },
  {
   "cell_type": "markdown",
   "metadata": {},
   "source": [
    "## Assignment 4"
   ]
  },
  {
   "cell_type": "code",
   "execution_count": 44,
   "metadata": {},
   "outputs": [
    {
     "name": "stdout",
     "output_type": "stream",
     "text": [
      "2670\n"
     ]
    }
   ],
   "source": [
    "url = \"http://py4e-data.dr-chuck.net/comments_44199.xml\"\n",
    "\n",
    "xml_data = ET.fromstring(urllib.request.urlopen(url).read())\n",
    "comments = xml_data.findall('.//count')\n",
    "counts = sum([int(comment.text) for comment in comments])\n",
    "print(counts)"
   ]
  },
  {
   "cell_type": "markdown",
   "metadata": {},
   "source": [
    "## Assignment 5a"
   ]
  },
  {
   "cell_type": "code",
   "execution_count": 64,
   "metadata": {},
   "outputs": [
    {
     "name": "stdout",
     "output_type": "stream",
     "text": [
      "2486\n"
     ]
    }
   ],
   "source": [
    "url = \"http://py4e-data.dr-chuck.net/comments_44200.json\"\n",
    "\n",
    "data = json.loads(urllib.request.urlopen(url).read().decode())\n",
    "counts = sum([line['count'] for line in data['comments']])\n",
    "print(counts)"
   ]
  },
  {
   "cell_type": "markdown",
   "metadata": {},
   "source": [
    "## Assignment 5b"
   ]
  },
  {
   "cell_type": "code",
   "execution_count": 78,
   "metadata": {},
   "outputs": [
    {
     "name": "stdout",
     "output_type": "stream",
     "text": [
      "Enter location: Kalamazoo College\n",
      "ChIJV1np4152F4gRIW9o_rSIMZ0\n"
     ]
    }
   ],
   "source": [
    "serviceurl = \"http://py4e-data.dr-chuck.net/geojson?\"\n",
    "\n",
    "location = input('Enter location: ')\n",
    "\n",
    "url = serviceurl + urllib.parse.urlencode({'sensor':'false', 'address': location})\n",
    "data = json.loads(urllib.request.urlopen(url).read().decode())\n",
    "place_id = data['results'][0]['place_id']\n",
    "print(place_id)"
   ]
  }
 ],
 "metadata": {
  "kernelspec": {
   "display_name": "Python [conda root]",
   "language": "python",
   "name": "conda-root-py"
  },
  "language_info": {
   "codemirror_mode": {
    "name": "ipython",
    "version": 3
   },
   "file_extension": ".py",
   "mimetype": "text/x-python",
   "name": "python",
   "nbconvert_exporter": "python",
   "pygments_lexer": "ipython3",
   "version": "3.5.4"
  }
 },
 "nbformat": 4,
 "nbformat_minor": 2
}
