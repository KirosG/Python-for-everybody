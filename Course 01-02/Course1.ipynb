{
 "cells": [
  {
   "cell_type": "markdown",
   "metadata": {},
   "source": [
    "## Assignment 1"
   ]
  },
  {
   "cell_type": "code",
   "execution_count": 1,
   "metadata": {},
   "outputs": [
    {
     "name": "stdout",
     "output_type": "stream",
     "text": [
      "hello world\n"
     ]
    }
   ],
   "source": [
    "print(\"hello world\")"
   ]
  },
  {
   "cell_type": "markdown",
   "metadata": {},
   "source": [
    "## Assignment 2a"
   ]
  },
  {
   "cell_type": "code",
   "execution_count": 2,
   "metadata": {},
   "outputs": [
    {
     "name": "stdout",
     "output_type": "stream",
     "text": [
      "Enter your nameAnton\n",
      "Hello Anton\n"
     ]
    }
   ],
   "source": [
    "name = input(\"Enter your name\")\n",
    "print(\"Hello \" + name)"
   ]
  },
  {
   "cell_type": "markdown",
   "metadata": {},
   "source": [
    "## Assignment 2b"
   ]
  },
  {
   "cell_type": "code",
   "execution_count": 3,
   "metadata": {},
   "outputs": [
    {
     "name": "stdout",
     "output_type": "stream",
     "text": [
      "Enter Hours:35\n",
      "Enter rate per hour:2.75\n",
      "Pay: 96.25\n"
     ]
    }
   ],
   "source": [
    "hrs = input(\"Enter Hours:\")\n",
    "rate = input(\"Enter rate per hour:\")\n",
    "pay = float(rate) * float(hrs)\n",
    "print(\"Pay: \" + str(pay))"
   ]
  },
  {
   "cell_type": "markdown",
   "metadata": {},
   "source": [
    "## Assignment 3a"
   ]
  },
  {
   "cell_type": "code",
   "execution_count": 4,
   "metadata": {},
   "outputs": [
    {
     "name": "stdout",
     "output_type": "stream",
     "text": [
      "Enter Hours:45\n",
      "Enter Rate:10.5\n",
      "498.75\n"
     ]
    }
   ],
   "source": [
    "hrs = input(\"Enter Hours:\")\n",
    "h = float(hrs)\n",
    "rate = input(\"Enter Rate:\")\n",
    "r = float(rate)\n",
    "\n",
    "if h <= 40:\n",
    "    pay = h * r\n",
    "else:\n",
    "    pay = 40 * r + (h - 40) * 1.5 * r\n",
    "\n",
    "print(pay)"
   ]
  },
  {
   "cell_type": "markdown",
   "metadata": {},
   "source": [
    "## Assignment 3b"
   ]
  },
  {
   "cell_type": "code",
   "execution_count": 5,
   "metadata": {},
   "outputs": [
    {
     "name": "stdout",
     "output_type": "stream",
     "text": [
      "Enter Score: 0.85\n",
      "B\n"
     ]
    }
   ],
   "source": [
    "score = input(\"Enter Score: \")\n",
    "score = float(score)\n",
    "if (score > 1) | (score < 0):\n",
    "    print(\"range error\")\n",
    "elif score < 0.6:\n",
    "    grade = \"F\"\n",
    "elif score < 0.7:\n",
    "    grade = \"D\"\n",
    "elif score < 0.8:\n",
    "    grade = \"C\"\n",
    "elif score < 0.9:\n",
    "    grade = \"B\"\n",
    "else:\n",
    "    grade = \"A\"\n",
    "\n",
    "print(grade)"
   ]
  },
  {
   "cell_type": "markdown",
   "metadata": {},
   "source": [
    "## Assignment 4"
   ]
  },
  {
   "cell_type": "code",
   "execution_count": 6,
   "metadata": {},
   "outputs": [
    {
     "name": "stdout",
     "output_type": "stream",
     "text": [
      "Enter Hours:45\n",
      "Enter rate:10.5\n",
      "498.75\n"
     ]
    }
   ],
   "source": [
    "def computepay(h,r):\n",
    "    if h <= 40:\n",
    "        pay = h * r\n",
    "    else:\n",
    "        pay = 40 * r + (h - 40) * 1.5 * r\n",
    "    return(pay)\n",
    "\n",
    "hrs = input(\"Enter Hours:\")\n",
    "rate = input(\"Enter rate:\")\n",
    "p = computepay(float(hrs), float(rate))\n",
    "print(p)"
   ]
  },
  {
   "cell_type": "markdown",
   "metadata": {},
   "source": [
    "## Assignment 5"
   ]
  },
  {
   "cell_type": "code",
   "execution_count": 7,
   "metadata": {},
   "outputs": [
    {
     "name": "stdout",
     "output_type": "stream",
     "text": [
      "Enter a number: 7\n",
      "Enter a number: 2\n",
      "Enter a number: bob\n",
      "Invalid input\n",
      "Enter a number: 10\n",
      "Enter a number: 4\n",
      "Enter a number: done\n",
      "Maximum is 10\n",
      "Minimum is 2\n"
     ]
    }
   ],
   "source": [
    "largest = None\n",
    "smallest = None\n",
    "my_list = []\n",
    "while True:\n",
    "    num = input(\"Enter a number: \")\n",
    "    if num == \"done\" : break\n",
    "    try:\n",
    "        num = int(num)\n",
    "        my_list.append(num)\n",
    "    except: \n",
    "        print(\"Invalid input\")\n",
    "\n",
    "largest = max(my_list)\n",
    "smallest = min(my_list)\n",
    "print(\"Maximum is\", str(largest))\n",
    "print(\"Minimum is\", str(smallest))"
   ]
  },
  {
   "cell_type": "code",
   "execution_count": null,
   "metadata": {
    "collapsed": true
   },
   "outputs": [],
   "source": []
  }
 ],
 "metadata": {
  "kernelspec": {
   "display_name": "Python [conda root]",
   "language": "python",
   "name": "conda-root-py"
  },
  "language_info": {
   "codemirror_mode": {
    "name": "ipython",
    "version": 3
   },
   "file_extension": ".py",
   "mimetype": "text/x-python",
   "name": "python",
   "nbconvert_exporter": "python",
   "pygments_lexer": "ipython3",
   "version": "3.5.4"
  }
 },
 "nbformat": 4,
 "nbformat_minor": 2
}
